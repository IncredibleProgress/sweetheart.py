{
 "cells": [
  {
   "attachments": {},
   "cell_type": "markdown",
   "id": "d3542689",
   "metadata": {},
   "source": [
    "# Sweetheart Services\n",
    "powerful features can be tested within jupyter"
   ]
  },
  {
   "cell_type": "code",
   "execution_count": 1,
   "id": "d8e59aa0",
   "metadata": {},
   "outputs": [
    {
     "name": "stdout",
     "output_type": "stream",
     "text": [
      "[SANDBOX] this module is given for tests not for production\n"
     ]
    }
   ],
   "source": [
    "from sweetheart.sandbox import *\n",
    "BaseConfig.verbosity=2"
   ]
  },
  {
   "cell_type": "code",
   "execution_count": 2,
   "id": "1addd660",
   "metadata": {},
   "outputs": [
    {
     "name": "stdout",
     "output_type": "stream",
     "text": [
      "sws:1: load subproc file: /home/nico/.sweet/jupyter/configuration/subproc.json\n",
      "sws:1: python env: /home/nico/.cache/pypoetry/virtualenvs/my-python-XwX0ocf8-py3.10\n",
      "[SWEETHEART] INFO: running for production\n",
      "[STOPPED] productive setting forbidden with sandbox\n"
     ]
    },
    {
     "ename": "NameError",
     "evalue": "name 'quit' is not defined",
     "output_type": "error",
     "traceback": [
      "\u001b[0;31m---------------------------------------------------------------------------\u001b[0m",
      "\u001b[0;31mNameError\u001b[0m                                 Traceback (most recent call last)",
      "\u001b[1;32m/home/nico/sweetheart.py/documentation/notebooks/Sweeyheart services.ipynb Cellule 3\u001b[0m in \u001b[0;36m1\n\u001b[0;32m----> <a href='vscode-notebook-cell://wsl%2Bubuntu-22.04/home/nico/sweetheart.py/documentation/notebooks/Sweeyheart%20services.ipynb#W2sdnNjb2RlLXJlbW90ZQ%3D%3D?line=0'>1</a>\u001b[0m CONFIG \u001b[39m=\u001b[39m _ \u001b[39m=\u001b[39m set_config(\n\u001b[1;32m      <a href='vscode-notebook-cell://wsl%2Bubuntu-22.04/home/nico/sweetheart.py/documentation/notebooks/Sweeyheart%20services.ipynb#W2sdnNjb2RlLXJlbW90ZQ%3D%3D?line=1'>2</a>\u001b[0m     { \n\u001b[1;32m      <a href='vscode-notebook-cell://wsl%2Bubuntu-22.04/home/nico/sweetheart.py/documentation/notebooks/Sweeyheart%20services.ipynb#W2sdnNjb2RlLXJlbW90ZQ%3D%3D?line=2'>3</a>\u001b[0m         \u001b[39m'\u001b[39;49m\u001b[39mrun\u001b[39;49m\u001b[39m'\u001b[39;49m: \u001b[39m'\u001b[39;49m\u001b[39mproductive\u001b[39;49m\u001b[39m'\u001b[39;49m,\n\u001b[1;32m      <a href='vscode-notebook-cell://wsl%2Bubuntu-22.04/home/nico/sweetheart.py/documentation/notebooks/Sweeyheart%20services.ipynb#W2sdnNjb2RlLXJlbW90ZQ%3D%3D?line=3'>4</a>\u001b[0m         \u001b[39m'\u001b[39;49m\u001b[39mproject\u001b[39;49m\u001b[39m'\u001b[39;49m: \u001b[39m'\u001b[39;49m\u001b[39mjupyter\u001b[39;49m\u001b[39m'\u001b[39;49m,\n\u001b[1;32m      <a href='vscode-notebook-cell://wsl%2Bubuntu-22.04/home/nico/sweetheart.py/documentation/notebooks/Sweeyheart%20services.ipynb#W2sdnNjb2RlLXJlbW90ZQ%3D%3D?line=4'>5</a>\u001b[0m     })\n",
      "File \u001b[0;32m~/.cache/pypoetry/virtualenvs/my-python-NbY-a3YA-py3.10/lib/python3.10/site-packages/sweetheart/sandbox.py:35\u001b[0m, in \u001b[0;36mset_config\u001b[0;34m(*args, **kwargs)\u001b[0m\n\u001b[1;32m     33\u001b[0m \u001b[39mif\u001b[39;00m config\u001b[39m.\u001b[39mrun \u001b[39m==\u001b[39m \u001b[39m\"\u001b[39m\u001b[39mproductive\u001b[39m\u001b[39m\"\u001b[39m:\n\u001b[1;32m     34\u001b[0m     \u001b[39mprint\u001b[39m(\u001b[39m\"\u001b[39m\u001b[39m[STOPPED] productive setting forbidden with sandbox\u001b[39m\u001b[39m\"\u001b[39m)\n\u001b[0;32m---> 35\u001b[0m     quit()\n",
      "\u001b[0;31mNameError\u001b[0m: name 'quit' is not defined"
     ]
    }
   ],
   "source": [
    "CONFIG = _ = set_config(\n",
    "    { \n",
    "        'run': 'productive',\n",
    "        'project': 'jupyter',\n",
    "    })"
   ]
  },
  {
   "cell_type": "code",
   "execution_count": null,
   "id": "32de6379",
   "metadata": {},
   "outputs": [],
   "source": [
    "print(sys.executable)\n",
    "print(BaseConfig._.python_env)\n",
    "print(BaseConfig._.python_bin)\n",
    "print(BaseConfig.python_bin)"
   ]
  },
  {
   "cell_type": "code",
   "execution_count": null,
   "id": "c9f1abd7",
   "metadata": {},
   "outputs": [],
   "source": [
    "quickstart()"
   ]
  },
  {
   "cell_type": "code",
   "execution_count": null,
   "id": "113e8a0a",
   "metadata": {},
   "outputs": [],
   "source": [
    "with set_config() as conf:\n",
    "    print(conf.project,conf.python_env)\n",
    "    print(_.project,_.python_env)"
   ]
  },
  {
   "cell_type": "code",
   "execution_count": null,
   "id": "51dc8b7c",
   "metadata": {},
   "outputs": [],
   "source": [
    "JupyterLab(CONFIG).run_local(terminal=True)"
   ]
  },
  {
   "cell_type": "code",
   "execution_count": null,
   "id": "91d95549",
   "metadata": {},
   "outputs": [],
   "source": [
    "CONFIG.run"
   ]
  }
 ],
 "metadata": {
  "kernelspec": {
   "display_name": "sweetheart",
   "language": "python",
   "name": "my-python-nby-a3ya-py3.10"
  },
  "language_info": {
   "codemirror_mode": {
    "name": "ipython",
    "version": 3
   },
   "file_extension": ".py",
   "mimetype": "text/x-python",
   "name": "python",
   "nbconvert_exporter": "python",
   "pygments_lexer": "ipython3",
   "version": "3.10.6"
  },
  "vscode": {
   "interpreter": {
    "hash": "8c687471623717e1be63d17ffddfa228e9206ea3422fb720d2d2a4c3a846cfce"
   }
  }
 },
 "nbformat": 4,
 "nbformat_minor": 5
}
