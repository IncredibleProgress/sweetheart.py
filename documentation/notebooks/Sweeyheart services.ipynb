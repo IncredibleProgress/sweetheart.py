{
 "cells": [
  {
   "attachments": {},
   "cell_type": "markdown",
   "id": "d3542689",
   "metadata": {},
   "source": [
    "# Sweetheart Services\n",
    "powerful features can be tested within jupyter"
   ]
  },
  {
   "cell_type": "code",
   "execution_count": 1,
   "id": "d8e59aa0",
   "metadata": {},
   "outputs": [
    {
     "name": "stdout",
     "output_type": "stream",
     "text": [
      "[SANDBOX] this module is given for tests not for production\n",
      "sws:1: load subproc file: /home/nico/.sweet/sweetheart/configuration/subproc.json\n",
      "sws:1: set instance of: NginxUnit\n"
     ]
    }
   ],
   "source": [
    "from sweetheart.sandbox import *\n",
    "BaseConfig.verbosity=1\n",
    "\n",
    "config = set_config()\n",
    "\n",
    "webapp = HttpServer(config)\n",
    "webapp.pre_mount(\"Route('/',HTMLTemplate('<h1>Test6 is a success!</h1>'))\")\n",
    "webapp.set_service()\n"
   ]
  },
  {
   "cell_type": "code",
   "execution_count": 2,
   "id": "8b53d740",
   "metadata": {},
   "outputs": [
    {
     "name": "stdout",
     "output_type": "stream",
     "text": [
      "sws:1: load subproc file: /home/nico/.sweet/jupyter/configuration/subproc.json\n",
      "jpyconf.python_env: /home/nico/.cache/pypoetry/virtualenvs/my-python-XwX0ocf8-py3.10\n",
      "sws:1: get BaseService.unit which is already set\n"
     ]
    }
   ],
   "source": [
    "with set_config(project='jupyter') as jpyconf:\n",
    "    print(\"jpyconf.python_env:\",jpyconf.python_env)\n",
    "    JupyterLab(jpyconf).set_proxy()"
   ]
  },
  {
   "cell_type": "code",
   "execution_count": 7,
   "id": "5e294531",
   "metadata": {},
   "outputs": [
    {
     "name": "stdout",
     "output_type": "stream",
     "text": [
      "{'applications': {'starlette': {'callable': 'webapp',\n",
      "                                'home': '/home/nico/.cache/pypoetry/virtualenvs/my-python-NbY-a3YA-py3.10',\n",
      "                                'module': 'start',\n",
      "                                'path': '/home/nico/.sweet/sweetheart/programs/my_python',\n",
      "                                'type': 'python 3.10',\n",
      "                                'user': 'nico'}},\n",
      " 'listeners': {'*:80': {'pass': 'routes'}},\n",
      " 'routes': [{'action': {'proxy': 'http://127.0.0.1:8888'},\n",
      "             'match': {'uri': '/jupyter/*'}},\n",
      "            {'action': {'pass': 'applications/starlette'}}]}\n",
      "sws:1: unit: Reconfiguration done. \n"
     ]
    }
   ],
   "source": [
    "from pprint import pprint\n",
    "pprint(webapp.unit)\n",
    "webapp.unit.put_config()"
   ]
  },
  {
   "cell_type": "code",
   "execution_count": 8,
   "id": "ad742af7",
   "metadata": {},
   "outputs": [
    {
     "name": "stdout",
     "output_type": "stream",
     "text": [
      "http://localhost:80\n"
     ]
    }
   ],
   "source": [
    "print(webapp.unit.host,webapp.unit.port,sep=':')\n",
    "webapp.unit.achieve_host()"
   ]
  }
 ],
 "metadata": {
  "kernelspec": {
   "display_name": "sweetheart",
   "language": "python",
   "name": "my-python-nby-a3ya-py3.10"
  },
  "language_info": {
   "codemirror_mode": {
    "name": "ipython",
    "version": 3
   },
   "file_extension": ".py",
   "mimetype": "text/x-python",
   "name": "python",
   "nbconvert_exporter": "python",
   "pygments_lexer": "ipython3",
   "version": "3.10.6"
  },
  "vscode": {
   "interpreter": {
    "hash": "8c687471623717e1be63d17ffddfa228e9206ea3422fb720d2d2a4c3a846cfce"
   }
  }
 },
 "nbformat": 4,
 "nbformat_minor": 5
}
