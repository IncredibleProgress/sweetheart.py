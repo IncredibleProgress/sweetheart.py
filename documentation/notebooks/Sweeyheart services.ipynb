{
 "cells": [
  {
   "attachments": {},
   "cell_type": "markdown",
   "id": "d3542689",
   "metadata": {},
   "source": [
    "# Sweetheart Services\n",
    "powerful features can be tested within jupyter"
   ]
  },
  {
   "cell_type": "code",
   "execution_count": 4,
   "id": "d8e59aa0",
   "metadata": {},
   "outputs": [
    {
     "data": {
      "text/plain": [
       "['curl', 'wget', 'cargo', 'npm', 'sws']"
      ]
     },
     "execution_count": 4,
     "metadata": {},
     "output_type": "execute_result"
    }
   ],
   "source": [
    "from sweetheart.sandbox import *\n",
    "sp.list_executables(\"curl wget cargo npm sws\")"
   ]
  },
  {
   "cell_type": "code",
   "execution_count": null,
   "id": "b2fd32e0",
   "metadata": {},
   "outputs": [],
   "source": [
    "conf = set_config()\n",
    "jupyter = JupyterLab(conf)\n",
    "jupyter.set_service_config()\n",
    "jupyter.sysd['Unit']['Description']"
   ]
  }
 ],
 "metadata": {
  "kernelspec": {
   "display_name": "sweetheart",
   "language": "python",
   "name": "my-python-nby-a3ya-py3.10"
  },
  "language_info": {
   "codemirror_mode": {
    "name": "ipython",
    "version": 3
   },
   "file_extension": ".py",
   "mimetype": "text/x-python",
   "name": "python",
   "nbconvert_exporter": "python",
   "pygments_lexer": "ipython3",
   "version": "3.10.6"
  },
  "vscode": {
   "interpreter": {
    "hash": "8c687471623717e1be63d17ffddfa228e9206ea3422fb720d2d2a4c3a846cfce"
   }
  }
 },
 "nbformat": 4,
 "nbformat_minor": 5
}
