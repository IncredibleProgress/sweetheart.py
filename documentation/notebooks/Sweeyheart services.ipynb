{
 "cells": [
  {
   "attachments": {},
   "cell_type": "markdown",
   "id": "d3542689",
   "metadata": {},
   "source": [
    "# Sweetheart Services\n",
    "powerful features can be tested within jupyter"
   ]
  },
  {
   "cell_type": "code",
   "execution_count": 1,
   "id": "d8e59aa0",
   "metadata": {},
   "outputs": [
    {
     "name": "stdout",
     "output_type": "stream",
     "text": [
      "[SANDBOX] this module is given for tests not for production\n"
     ]
    }
   ],
   "source": [
    "from sweetheart.sandbox import *\n",
    "\n",
    "_ = CONFIG = set_config(\n",
    "    { \n",
    "        'run': 'testing',\n",
    "        'project': 'jupyter',\n",
    "    })\n",
    "\n",
    "JupyterLab(CONFIG).run_local(terminal=True)\n"
   ]
  },
  {
   "cell_type": "code",
   "execution_count": null,
   "id": "36d3bdc8",
   "metadata": {},
   "outputs": [],
   "source": []
  }
 ],
 "metadata": {
  "kernelspec": {
   "display_name": "sweetheart",
   "language": "python",
   "name": "my-python-nby-a3ya-py3.10"
  },
  "language_info": {
   "codemirror_mode": {
    "name": "ipython",
    "version": 3
   },
   "file_extension": ".py",
   "mimetype": "text/x-python",
   "name": "python",
   "nbconvert_exporter": "python",
   "pygments_lexer": "ipython3",
   "version": "3.10.6"
  },
  "vscode": {
   "interpreter": {
    "hash": "8c687471623717e1be63d17ffddfa228e9206ea3422fb720d2d2a4c3a846cfce"
   }
  }
 },
 "nbformat": 4,
 "nbformat_minor": 5
}
