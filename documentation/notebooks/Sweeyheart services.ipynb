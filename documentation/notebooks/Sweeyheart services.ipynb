{
 "cells": [
  {
   "attachments": {},
   "cell_type": "markdown",
   "id": "d3542689",
   "metadata": {},
   "source": [
    "# Sweetheart Services\n",
    "powerful features can be tested within jupyter"
   ]
  },
  {
   "cell_type": "code",
   "execution_count": null,
   "id": "d8e59aa0",
   "metadata": {},
   "outputs": [],
   "source": [
    "from sweetheart.sandbox import *\n",
    "BaseConfig.verbosity=2"
   ]
  },
  {
   "cell_type": "code",
   "execution_count": null,
   "id": "1addd660",
   "metadata": {},
   "outputs": [],
   "source": [
    "CONFIG = _ = set_config(\n",
    "    { \n",
    "        'run': 'testing',\n",
    "        'project': 'jupyter',\n",
    "    })\n",
    "\n"
   ]
  },
  {
   "cell_type": "code",
   "execution_count": null,
   "id": "32de6379",
   "metadata": {},
   "outputs": [],
   "source": [
    "\n",
    "print(sys.executable)\n",
    "print(BaseConfig._.python_env)\n",
    "print(BaseConfig._.python_bin)\n",
    "print(BaseConfig._.subproc['python_bin'])"
   ]
  },
  {
   "cell_type": "code",
   "execution_count": null,
   "id": "c9f1abd7",
   "metadata": {},
   "outputs": [],
   "source": [
    "quickstart()"
   ]
  },
  {
   "cell_type": "code",
   "execution_count": null,
   "id": "113e8a0a",
   "metadata": {},
   "outputs": [],
   "source": [
    "with set_config() as conf:\n",
    "    print(conf.project,conf.python_env)\n",
    "    print(_.project,_.python_env)"
   ]
  },
  {
   "cell_type": "code",
   "execution_count": null,
   "id": "51dc8b7c",
   "metadata": {},
   "outputs": [],
   "source": [
    "JupyterLab(CONFIG).run_local(terminal=True)"
   ]
  }
 ],
 "metadata": {
  "kernelspec": {
   "display_name": "sweetheart",
   "language": "python",
   "name": "my-python-nby-a3ya-py3.10"
  },
  "language_info": {
   "codemirror_mode": {
    "name": "ipython",
    "version": 3
   },
   "file_extension": ".py",
   "mimetype": "text/x-python",
   "name": "python",
   "nbconvert_exporter": "python",
   "pygments_lexer": "ipython3",
   "version": "3.10.6"
  },
  "vscode": {
   "interpreter": {
    "hash": "8c687471623717e1be63d17ffddfa228e9206ea3422fb720d2d2a4c3a846cfce"
   }
  }
 },
 "nbformat": 4,
 "nbformat_minor": 5
}
