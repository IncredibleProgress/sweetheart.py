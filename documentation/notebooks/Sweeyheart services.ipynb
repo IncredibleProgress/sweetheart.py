{
 "cells": [
  {
   "attachments": {},
   "cell_type": "markdown",
   "id": "d3542689",
   "metadata": {},
   "source": [
    "# Sweetheart Services\n",
    "powerful features can be tested within jupyter"
   ]
  },
  {
   "cell_type": "code",
   "execution_count": 1,
   "id": "d8e59aa0",
   "metadata": {},
   "outputs": [
    {
     "name": "stdout",
     "output_type": "stream",
     "text": [
      "[SANDBOX] this module is given for tests not for production\n"
     ]
    }
   ],
   "source": [
    "from sweetheart.sandbox import *\n",
    "\n",
    "CONF = _ = set_config(\n",
    "    { \n",
    "        'run': 'testing',\n",
    "        'project': 'jupyter',\n",
    "    })\n"
   ]
  },
  {
   "cell_type": "code",
   "execution_count": 2,
   "id": "36d3bdc8",
   "metadata": {},
   "outputs": [],
   "source": [
    "# start a JupyterLab server\n",
    "jupy= JupyterLab(_)\n",
    "jupy.set_service()\n",
    "jupy.set_proxy()"
   ]
  },
  {
   "cell_type": "code",
   "execution_count": 4,
   "id": "df7ca964",
   "metadata": {},
   "outputs": [
    {
     "data": {
      "text/plain": [
       "{'listeners': {}, 'routes': [{'match': {'uri': '/jupyter/*'}, 'action': {'proxy': 'http://127.0.0.1:8888'}}], 'applications': {}}"
      ]
     },
     "execution_count": 4,
     "metadata": {},
     "output_type": "execute_result"
    }
   ],
   "source": [
    "jupy.unit"
   ]
  }
 ],
 "metadata": {
  "kernelspec": {
   "display_name": "sweetheart",
   "language": "python",
   "name": "my-python-nby-a3ya-py3.10"
  },
  "language_info": {
   "codemirror_mode": {
    "name": "ipython",
    "version": 3
   },
   "file_extension": ".py",
   "mimetype": "text/x-python",
   "name": "python",
   "nbconvert_exporter": "python",
   "pygments_lexer": "ipython3",
   "version": "3.10.6"
  },
  "vscode": {
   "interpreter": {
    "hash": "8c687471623717e1be63d17ffddfa228e9206ea3422fb720d2d2a4c3a846cfce"
   }
  }
 },
 "nbformat": 4,
 "nbformat_minor": 5
}
