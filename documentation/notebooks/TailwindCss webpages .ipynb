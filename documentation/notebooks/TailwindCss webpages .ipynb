{
 "cells": [
  {
   "cell_type": "markdown",
   "id": "c9344e7c",
   "metadata": {},
   "source": [
    "# TailwindCss Webpages"
   ]
  },
  {
   "cell_type": "code",
   "execution_count": 1,
   "id": "629c99ec",
   "metadata": {},
   "outputs": [],
   "source": [
    "from sweetheart.sandbox import *"
   ]
  },
  {
   "cell_type": "code",
   "execution_count": null,
   "id": "9c5e7c77",
   "metadata": {},
   "outputs": [
    {
     "name": "stdout",
     "output_type": "stream",
     "text": [
      "[SWEETHEART] mount webapp: /home/nico/.sweet/sweetheart/webpages\n"
     ]
    },
    {
     "name": "stderr",
     "output_type": "stream",
     "text": [
      "INFO:     Started server process [3375]\n",
      "INFO:     Waiting for application startup.\n",
      "INFO:     Application startup complete.\n",
      "INFO:     Uvicorn running on http://127.0.0.1:8000 (Press CTRL+C to quit)\n"
     ]
    },
    {
     "name": "stdout",
     "output_type": "stream",
     "text": [
      "INFO:     127.0.0.1:64669 - \"GET / HTTP/1.1\" 200 OK\n",
      "INFO:     127.0.0.1:64669 - \"GET /favicon.ico HTTP/1.1\" 200 OK\n",
      "INFO:     127.0.0.1:64699 - \"GET / HTTP/1.1\" 200 OK\n"
     ]
    }
   ],
   "source": [
    "quickstart( \n",
    "    Route(\"/\", HTMLTemplate('login.htm')),\n",
    "    Route(\"/q\", HTMLTemplate('generalquery.htm')),\n",
    ")"
   ]
  },
  {
   "cell_type": "code",
   "execution_count": null,
   "id": "1b5f49ee",
   "metadata": {},
   "outputs": [],
   "source": []
  }
 ],
 "metadata": {
  "kernelspec": {
   "display_name": "my-python-NbY-a3YA-py3.8",
   "language": "python",
   "name": "my-python-nby-a3ya-py3.8"
  },
  "language_info": {
   "codemirror_mode": {
    "name": "ipython",
    "version": 3
   },
   "file_extension": ".py",
   "mimetype": "text/x-python",
   "name": "python",
   "nbconvert_exporter": "python",
   "pygments_lexer": "ipython3",
   "version": "3.8.5"
  }
 },
 "nbformat": 4,
 "nbformat_minor": 5
}
