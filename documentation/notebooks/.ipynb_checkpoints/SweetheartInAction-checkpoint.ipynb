{
 "cells": [
  {
   "cell_type": "markdown",
   "id": "08aad37f",
   "metadata": {},
   "source": [
    "# Sweetheart in Action"
   ]
  },
  {
   "cell_type": "code",
   "execution_count": 1,
   "id": "feaf70fe",
   "metadata": {},
   "outputs": [
    {
     "name": "stdout",
     "output_type": "stream",
     "text": [
      "SWEET SHELL LEVEL: 1\n"
     ]
    }
   ],
   "source": [
    "from sweetheart.sandbox import *\n",
    "BaseConfig.verbosity = 1\n",
    "print(\"SWEET_SHELL_LEVEL:\",BaseConfig.SWSLVL)"
   ]
  },
  {
   "cell_type": "code",
   "execution_count": 2,
   "id": "6b1f1382",
   "metadata": {},
   "outputs": [
    {
     "name": "stdout",
     "output_type": "stream",
     "text": [
      "sws:1: subproc file: /home/nico/.sweet/sweetheart/configuration/subproc.json\n",
      "[SWEETHEART] mount webapp: /home/nico/.sweet/sweetheart/webpages\n"
     ]
    },
    {
     "name": "stderr",
     "output_type": "stream",
     "text": [
      "INFO:     Started server process [5061]\n",
      "INFO:     Waiting for application startup.\n",
      "INFO:     Application startup complete.\n",
      "INFO:     Uvicorn running on http://127.0.0.1:8000 (Press CTRL+C to quit)\n",
      "INFO:     Shutting down\n",
      "INFO:     Waiting for application shutdown.\n",
      "INFO:     Application shutdown complete.\n",
      "INFO:     Finished server process [5061]\n"
     ]
    }
   ],
   "source": [
    "quickstart( Route('/',HTMLTemplate('login.txt')) )"
   ]
  }
 ],
 "metadata": {
  "kernelspec": {
   "display_name": "my-python-NbY-a3YA-py3.8",
   "language": "python",
   "name": "my-python-nby-a3ya-py3.8"
  },
  "language_info": {
   "codemirror_mode": {
    "name": "ipython",
    "version": 3
   },
   "file_extension": ".py",
   "mimetype": "text/x-python",
   "name": "python",
   "nbconvert_exporter": "python",
   "pygments_lexer": "ipython3",
   "version": "3.8.5"
  }
 },
 "nbformat": 4,
 "nbformat_minor": 5
}
