{
 "cells": [
  {
   "cell_type": "markdown",
   "id": "01628ece",
   "metadata": {},
   "source": [
    "# Sweetheart in Action"
   ]
  },
  {
   "cell_type": "code",
   "execution_count": 1,
   "id": "41892717",
   "metadata": {},
   "outputs": [],
   "source": [
    "from sweetheart.sandbox import *"
   ]
  },
  {
   "cell_type": "code",
   "execution_count": 2,
   "id": "20e3722e",
   "metadata": {},
   "outputs": [
    {
     "name": "stdout",
     "output_type": "stream",
     "text": [
      "[SWEETHEART] mount webapp: /home/nico/.sweet/sweetheart/webpages\n"
     ]
    },
    {
     "name": "stderr",
     "output_type": "stream",
     "text": [
      "INFO:     Started server process [4037]\n",
      "INFO:     Waiting for application startup.\n",
      "INFO:     Application startup complete.\n",
      "INFO:     Uvicorn running on http://127.0.0.1:8000 (Press CTRL+C to quit)\n"
     ]
    },
    {
     "name": "stdout",
     "output_type": "stream",
     "text": [
      "INFO:     127.0.0.1:57320 - \"GET / HTTP/1.1\" 200 OK\n",
      "INFO:     127.0.0.1:57319 - \"GET /resources/node_modules/bootstrap/dist/js/bootstrap.bundle.min.js.map HTTP/1.1\" 200 OK\n",
      "INFO:     127.0.0.1:57322 - \"GET /resources/node_modules/bootstrap/dist/css/bootstrap.min.css.map HTTP/1.1\" 200 OK\n"
     ]
    },
    {
     "name": "stderr",
     "output_type": "stream",
     "text": [
      "INFO:     Shutting down\n",
      "INFO:     Waiting for application shutdown.\n",
      "INFO:     Application shutdown complete.\n",
      "INFO:     Finished server process [4037]\n"
     ]
    }
   ],
   "source": [
    "quickstart( Route('/',HTMLTemplate('login.txt')) )"
   ]
  },
  {
   "cell_type": "code",
   "execution_count": null,
   "id": "1bc4864a",
   "metadata": {},
   "outputs": [],
   "source": []
  }
 ],
 "metadata": {
  "kernelspec": {
   "display_name": "my-python-NbY-a3YA-py3.8",
   "language": "python",
   "name": "my-python-nby-a3ya-py3.8"
  },
  "language_info": {
   "codemirror_mode": {
    "name": "ipython",
    "version": 3
   },
   "file_extension": ".py",
   "mimetype": "text/x-python",
   "name": "python",
   "nbconvert_exporter": "python",
   "pygments_lexer": "ipython3",
   "version": "3.8.5"
  }
 },
 "nbformat": 4,
 "nbformat_minor": 5
}
