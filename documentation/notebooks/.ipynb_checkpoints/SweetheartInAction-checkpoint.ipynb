{
 "cells": [
  {
   "cell_type": "markdown",
   "id": "6917d9bd",
   "metadata": {},
   "source": [
    "# Sweetheart in action"
   ]
  },
  {
   "cell_type": "code",
   "execution_count": 1,
   "id": "a5704387",
   "metadata": {},
   "outputs": [],
   "source": [
    "from sweetheart.sweet import set_config,quickstart\n",
    "from sweetheart.heart import Route,HTMLResponse"
   ]
  },
  {
   "cell_type": "code",
   "execution_count": 10,
   "id": "5b37c5df",
   "metadata": {},
   "outputs": [],
   "source": [
    "config = set_config()\n",
    "config.is_webapp_open = False\n",
    "config.is_mongodb_local = False"
   ]
  },
  {
   "cell_type": "code",
   "execution_count": 11,
   "id": "5d26a63a",
   "metadata": {},
   "outputs": [
    {
     "name": "stdout",
     "output_type": "stream",
     "text": [
      "[SWEETHEART] mount webapp: /home/nico/.sweet/sweetheart/webpages\n"
     ]
    },
    {
     "name": "stderr",
     "output_type": "stream",
     "text": [
      "INFO:     Started server process [815]\n",
      "INFO:     Waiting for application startup.\n",
      "INFO:     Application startup complete.\n",
      "INFO:     Uvicorn running on http://127.0.0.1:8000 (Press CTRL+C to quit)\n"
     ]
    },
    {
     "name": "stdout",
     "output_type": "stream",
     "text": [
      "INFO:     127.0.0.1:51693 - \"GET / HTTP/1.1\" 404 Not Found\n",
      "INFO:     127.0.0.1:51693 - \"GET /favicon.ico HTTP/1.1\" 404 Not Found\n",
      "INFO:     127.0.0.1:51694 - \"GET / HTTP/1.1\" 404 Not Found\n",
      "INFO:     127.0.0.1:51694 - \"GET /login HTTP/1.1\" 200 OK\n",
      "INFO:     127.0.0.1:51702 - \"POST /login HTTP/1.1\" 200 OK\n"
     ]
    },
    {
     "name": "stderr",
     "output_type": "stream",
     "text": [
      "INFO:     Shutting down\n",
      "INFO:     Waiting for application shutdown.\n",
      "INFO:     Application shutdown complete.\n",
      "INFO:     Finished server process [815]\n"
     ]
    }
   ],
   "source": [
    "quickstart(\n",
    "    Route('/',webapp.HTMLTemplate('login.txt')),\n",
    ")"
   ]
  }
 ],
 "metadata": {
  "kernelspec": {
   "display_name": "my-python-NbY-a3YA-py3.8",
   "language": "python",
   "name": "my-python-nby-a3ya-py3.8"
  },
  "language_info": {
   "codemirror_mode": {
    "name": "ipython",
    "version": 3
   },
   "file_extension": ".py",
   "mimetype": "text/x-python",
   "name": "python",
   "nbconvert_exporter": "python",
   "pygments_lexer": "ipython3",
   "version": "3.8.5"
  }
 },
 "nbformat": 4,
 "nbformat_minor": 5
}
