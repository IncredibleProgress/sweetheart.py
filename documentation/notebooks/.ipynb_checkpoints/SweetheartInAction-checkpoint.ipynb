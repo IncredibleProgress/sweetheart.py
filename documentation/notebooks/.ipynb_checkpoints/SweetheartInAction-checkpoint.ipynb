{
 "cells": [
  {
   "cell_type": "markdown",
   "id": "6a315812",
   "metadata": {},
   "source": [
    "# Sweetheart in Action"
   ]
  },
  {
   "cell_type": "code",
   "execution_count": 1,
   "id": "df5fc536",
   "metadata": {},
   "outputs": [],
   "source": [
    "from sweetheart.sandbox import *"
   ]
  },
  {
   "cell_type": "code",
   "execution_count": null,
   "id": "c8655b66",
   "metadata": {},
   "outputs": [
    {
     "name": "stdout",
     "output_type": "stream",
     "text": [
      "[SWEETHEART] mount webapp: /home/nico/.sweet/sweetheart/webpages\n"
     ]
    },
    {
     "name": "stderr",
     "output_type": "stream",
     "text": [
      "INFO:     Started server process [9498]\n",
      "INFO:     Waiting for application startup.\n",
      "INFO:     Application startup complete.\n",
      "INFO:     Uvicorn running on http://127.0.0.1:8181 (Press CTRL+C to quit)\n"
     ]
    }
   ],
   "source": [
    "quickstart( Route('/',HTMLTemplate('login.txt')) )"
   ]
  }
 ],
 "metadata": {
  "kernelspec": {
   "display_name": "my-python-NbY-a3YA-py3.8",
   "language": "python",
   "name": "my-python-nby-a3ya-py3.8"
  },
  "language_info": {
   "codemirror_mode": {
    "name": "ipython",
    "version": 3
   },
   "file_extension": ".py",
   "mimetype": "text/x-python",
   "name": "python",
   "nbconvert_exporter": "python",
   "pygments_lexer": "ipython3",
   "version": "3.8.5"
  }
 },
 "nbformat": 4,
 "nbformat_minor": 5
}
