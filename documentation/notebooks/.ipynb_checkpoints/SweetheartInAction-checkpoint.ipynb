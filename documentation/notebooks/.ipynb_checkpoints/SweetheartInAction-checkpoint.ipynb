{
 "cells": [
  {
   "cell_type": "markdown",
   "id": "20a172d5",
   "metadata": {},
   "source": [
    "# Sweetheart in Action"
   ]
  },
  {
   "cell_type": "code",
   "execution_count": 1,
   "id": "e24db724",
   "metadata": {},
   "outputs": [],
   "source": [
    "from sweetheart.sandbox import *\n",
    "\n",
    "config = set_config()\n",
    "config.is_webapp_open = True\n",
    "config.is_mongodb_local = False"
   ]
  },
  {
   "cell_type": "code",
   "execution_count": 2,
   "id": "f7df431b",
   "metadata": {},
   "outputs": [
    {
     "name": "stdout",
     "output_type": "stream",
     "text": [
      "[SWEETHEART] mount webapp: /home/nico/.sweet/sweetheart/webpages\n"
     ]
    },
    {
     "name": "stderr",
     "output_type": "stream",
     "text": [
      "INFO:     Started server process [1168]\n",
      "INFO:     Waiting for application startup.\n",
      "INFO:     Application startup complete.\n",
      "INFO:     Uvicorn running on http://127.0.0.1:8000 (Press CTRL+C to quit)\n"
     ]
    },
    {
     "name": "stdout",
     "output_type": "stream",
     "text": [
      "INFO:     127.0.0.1:50200 - \"GET / HTTP/1.1\" 200 OK\n",
      "INFO:     127.0.0.1:50200 - \"GET /favicon.ico HTTP/1.1\" 404 Not Found\n"
     ]
    },
    {
     "name": "stderr",
     "output_type": "stream",
     "text": [
      "INFO:     Shutting down\n",
      "INFO:     Waiting for application shutdown.\n",
      "INFO:     Application shutdown complete.\n",
      "INFO:     Finished server process [1168]\n"
     ]
    }
   ],
   "source": [
    "webapp = HttpServer(config)\n",
    "quickstart( Route('/',webapp.HTMLTemplate('login.txt')) )"
   ]
  },
  {
   "cell_type": "code",
   "execution_count": null,
   "id": "e9ca4e19",
   "metadata": {},
   "outputs": [],
   "source": []
  }
 ],
 "metadata": {
  "kernelspec": {
   "display_name": "my-python-NbY-a3YA-py3.8",
   "language": "python",
   "name": "my-python-nby-a3ya-py3.8"
  },
  "language_info": {
   "codemirror_mode": {
    "name": "ipython",
    "version": 3
   },
   "file_extension": ".py",
   "mimetype": "text/x-python",
   "name": "python",
   "nbconvert_exporter": "python",
   "pygments_lexer": "ipython3",
   "version": "3.8.5"
  }
 },
 "nbformat": 4,
 "nbformat_minor": 5
}
