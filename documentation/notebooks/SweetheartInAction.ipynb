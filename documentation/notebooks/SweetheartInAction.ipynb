{
 "cells": [
  {
   "cell_type": "markdown",
   "id": "6f9e1cda",
   "metadata": {},
   "source": [
    "# Sweetheart in Action"
   ]
  },
  {
   "cell_type": "code",
   "execution_count": null,
   "id": "c8972f67",
   "metadata": {},
   "outputs": [],
   "source": [
    "from sweetheart.sandbox import *\n",
    "\n",
    "config = set_config()\n",
    "config.is_webapp_open = True\n",
    "config.is_mongodb_local = False"
   ]
  },
  {
   "cell_type": "code",
   "execution_count": null,
   "id": "b965c6c3",
   "metadata": {},
   "outputs": [],
   "source": [
    "webapp = HttpServer(config)\n",
    "quickstart( Route('/',webapp.HTMLTemplate('login.txt')) )"
   ]
  },
  {
   "cell_type": "code",
   "execution_count": null,
   "id": "88831251",
   "metadata": {},
   "outputs": [],
   "source": []
  }
 ],
 "metadata": {
  "kernelspec": {
   "display_name": "my-python-NbY-a3YA-py3.8",
   "language": "python",
   "name": "my-python-nby-a3ya-py3.8"
  },
  "language_info": {
   "codemirror_mode": {
    "name": "ipython",
    "version": 3
   },
   "file_extension": ".py",
   "mimetype": "text/x-python",
   "name": "python",
   "nbconvert_exporter": "python",
   "pygments_lexer": "ipython3",
   "version": "3.8.5"
  }
 },
 "nbformat": 4,
 "nbformat_minor": 5
}
