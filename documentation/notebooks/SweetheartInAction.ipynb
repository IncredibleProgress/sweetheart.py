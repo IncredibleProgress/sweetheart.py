{
 "cells": [
  {
   "cell_type": "markdown",
   "id": "bbff9fe6",
   "metadata": {},
   "source": [
    "# Sweetheart in Action"
   ]
  },
  {
   "cell_type": "code",
   "execution_count": 1,
   "id": "156d6c1e",
   "metadata": {},
   "outputs": [],
   "source": [
    "from sweetheart.sandbox import *\n",
    "BaseConfig.verbosity = 1"
   ]
  },
  {
   "cell_type": "code",
   "execution_count": null,
   "id": "e7881f07",
   "metadata": {},
   "outputs": [
    {
     "name": "stdout",
     "output_type": "stream",
     "text": [
      "[SWEETHEART] mount webapp: /home/nico/.sweet/sweetheart/webpages\n"
     ]
    },
    {
     "name": "stderr",
     "output_type": "stream",
     "text": [
      "INFO:     Started server process [6602]\n",
      "INFO:     Waiting for application startup.\n",
      "INFO:     Application startup complete.\n",
      "INFO:     Uvicorn running on http://127.0.0.1:8000 (Press CTRL+C to quit)\n"
     ]
    },
    {
     "name": "stdout",
     "output_type": "stream",
     "text": [
      "INFO:     127.0.0.1:49941 - \"GET / HTTP/1.1\" 200 OK\n",
      "INFO:     127.0.0.1:49941 - \"GET /favicon.ico HTTP/1.1\" 200 OK\n",
      "INFO:     127.0.0.1:49941 - \"GET /resources/node_modules/bootstrap/dist/js/bootstrap.bundle.min.js.map HTTP/1.1\" 200 OK\n",
      "INFO:     127.0.0.1:49941 - \"GET /resources/node_modules/bootstrap/dist/css/bootstrap.min.css.map HTTP/1.1\" 200 OK\n"
     ]
    }
   ],
   "source": [
    "quickstart( Route('/',HTMLTemplate('login.txt')) )"
   ]
  },
  {
   "cell_type": "code",
   "execution_count": null,
   "id": "8f951991",
   "metadata": {},
   "outputs": [],
   "source": [
    "install('science')"
   ]
  },
  {
   "cell_type": "code",
   "execution_count": 2,
   "id": "df5d5782",
   "metadata": {},
   "outputs": [
    {
     "name": "stdout",
     "output_type": "stream",
     "text": [
      "sws:2: subproc file: /home/nico/.sweet/sweetheart/configuration/subproc.json\n",
      "[SWEETHEART] npm install: @popperjs/core\n"
     ]
    },
    {
     "data": {
      "text/plain": [
       "CompletedProcess(args=('npm', 'install', '@popperjs/core'), returncode=0)"
      ]
     },
     "execution_count": 2,
     "metadata": {},
     "output_type": "execute_result"
    }
   ],
   "source": [
    "config = set_config()\n",
    "installer = BaseInstall(config)\n",
    "installer.npm('@popperjs/core')"
   ]
  },
  {
   "cell_type": "code",
   "execution_count": null,
   "id": "435e8ee8",
   "metadata": {},
   "outputs": [],
   "source": []
  }
 ],
 "metadata": {
  "kernelspec": {
   "display_name": "my-python-NbY-a3YA-py3.8",
   "language": "python",
   "name": "my-python-nby-a3ya-py3.8"
  },
  "language_info": {
   "codemirror_mode": {
    "name": "ipython",
    "version": 3
   },
   "file_extension": ".py",
   "mimetype": "text/x-python",
   "name": "python",
   "nbconvert_exporter": "python",
   "pygments_lexer": "ipython3",
   "version": "3.8.5"
  }
 },
 "nbformat": 4,
 "nbformat_minor": 5
}
