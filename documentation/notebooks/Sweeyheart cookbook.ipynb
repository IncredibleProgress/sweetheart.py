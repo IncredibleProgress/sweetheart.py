{
 "cells": [
  {
   "cell_type": "markdown",
   "id": "6990e439",
   "metadata": {},
   "source": [
    "# **Sweetheart Cookbook**"
   ]
  },
  {
   "cell_type": "markdown",
   "id": "2ce5b836",
   "metadata": {},
   "source": [
    "## first welcome message"
   ]
  },
  {
   "cell_type": "code",
   "execution_count": null,
   "id": "26197613",
   "metadata": {},
   "outputs": [],
   "source": [
    "from sweetheart.sandbox import *\n",
    "\n",
    "quickstart(\"\"\"\n",
    "  <!SWEETHEART html>\n",
    "  <div class=\"text-center m-4\">\n",
    "    <h1>Welcome !</h1>\n",
    "    <p>happy to see you for making first tests</p>\n",
    "  </div>\n",
    "\"\"\")"
   ]
  },
  {
   "cell_type": "markdown",
   "id": "fca9261b",
   "metadata": {},
   "source": [
    "for understanding:\n",
    "- `quickstart()` allows any Html code or template as argument for making tests\n",
    "- `<!SWEETHEART html>` is a magic way for enabling Html resources provided by Sweetheart\n",
    "- the `sweetheart.sandbox` module manages some python concerns running within Jupyter"
   ]
  },
  {
   "cell_type": "markdown",
   "id": "a67e26c1",
   "metadata": {},
   "source": [
    "## test a webapp locally\n",
    "Previous example is wonderful for discovering and testing Sweetheart. However this is obviously not relevant enough for building and testing locally real webapp. The following recipe is dedicated to this purpose. It allows you to tune explicitly configuration topics."
   ]
  },
  {
   "cell_type": "code",
   "execution_count": null,
   "id": "971bca5f",
   "metadata": {},
   "outputs": [],
   "source": [
    "from sweetheart.sandbox import *\n",
    "\n",
    "# set configuration\n",
    "config = set_config({\n",
    "    \"run_local\": True,\n",
    "    \"selected_db\": \"test\" }) \n",
    "\n",
    "# build and start webapp\n",
    "quickstart(\n",
    "    Route(\"/\",HTMLWelcomeMessage()),\n",
    "    Route(\"/login\",HTMLTemplate(\"login.htm\")) )"
   ]
  },
  {
   "cell_type": "markdown",
   "id": "3e6e4d73",
   "metadata": {},
   "source": [
    "## configure and run a webapp\n",
    "Here main utilities parameters are set in a declarative way and you fix accurately what is enabled and running."
   ]
  },
  {
   "cell_type": "code",
   "execution_count": null,
   "id": "2fb20653",
   "metadata": {},
   "outputs": [],
   "source": [
    "from sweetheart.sandbox import *\n",
    "\n",
    "# set configuration\n",
    "config = set_config({\n",
    "    \"templates_dir\": \"templates\",\n",
    "    \"selected_db\": \"test\" })\n",
    "\n",
    "# build webapp\n",
    "webapp = HttpServer(config).mount(\n",
    "    Route(\"/\",HTMLWelcomeMessage()),\n",
    "    Route(\"/login\",HTMLTemplate(\"login.htm\")) )\n",
    "\n",
    "# set database facilities\n",
    "webapp.database = RethinkDB(config)\n",
    "webapp.database.set_websocket()\n",
    "webapp.database.set_client()\n",
    "\n",
    "# enable/disable local services\n",
    "config.is_rethinkdb_local = True\n",
    "config.is_jupyter_local = False\n",
    "config.is_webapp_open = False\n",
    "\n",
    "# run webapp\n",
    "quickstart(webapp)"
   ]
  }
 ],
 "metadata": {
  "interpreter": {
   "hash": "df0893f56f349688326838aaeea0de204df53a132722cbd565e54b24a8fec5f6"
  },
  "kernelspec": {
   "display_name": "my-python-NbY-a3YA-py3.8",
   "language": "python",
   "name": "my-python-nby-a3ya-py3.8"
  },
  "language_info": {
   "codemirror_mode": {
    "name": "ipython",
    "version": 3
   },
   "file_extension": ".py",
   "mimetype": "text/x-python",
   "name": "python",
   "nbconvert_exporter": "python",
   "pygments_lexer": "ipython3",
   "version": "3.8.10"
  }
 },
 "nbformat": 4,
 "nbformat_minor": 5
}
