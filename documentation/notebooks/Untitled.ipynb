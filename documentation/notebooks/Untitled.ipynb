{
 "cells": [
  {
   "cell_type": "code",
   "execution_count": 1,
   "id": "971bca5f",
   "metadata": {},
   "outputs": [],
   "source": [
    "from sweetheart.sandbox import *\n",
    "config = set_config() # change config values here"
   ]
  },
  {
   "cell_type": "code",
   "execution_count": 2,
   "id": "5c52f0ed",
   "metadata": {},
   "outputs": [],
   "source": [
    "redb,conn = RethinkDB(config).set_client()"
   ]
  },
  {
   "cell_type": "code",
   "execution_count": 5,
   "id": "8596d71d",
   "metadata": {},
   "outputs": [
    {
     "name": "stdout",
     "output_type": "stream",
     "text": [
      "{'a': 1}\n",
      "{'a': 1}\n",
      "{'a': 1}\n",
      "{'a': 1}\n",
      "{'a': 1}\n",
      "{'a': 1}\n",
      "{'a': 1}\n"
     ]
    }
   ],
   "source": [
    "for i in redb.table('test').pluck('a').run(conn): print(i)"
   ]
  },
  {
   "cell_type": "code",
   "execution_count": null,
   "id": "d6f0cc92",
   "metadata": {},
   "outputs": [],
   "source": []
  }
 ],
 "metadata": {
  "kernelspec": {
   "display_name": "my-python-NbY-a3YA-py3.8",
   "language": "python",
   "name": "my-python-nby-a3ya-py3.8"
  },
  "language_info": {
   "codemirror_mode": {
    "name": "ipython",
    "version": 3
   },
   "file_extension": ".py",
   "mimetype": "text/x-python",
   "name": "python",
   "nbconvert_exporter": "python",
   "pygments_lexer": "ipython3",
   "version": "3.8.10"
  }
 },
 "nbformat": 4,
 "nbformat_minor": 5
}
