{
 "cells": [
  {
   "cell_type": "code",
   "execution_count": 1,
   "id": "971bca5f",
   "metadata": {},
   "outputs": [],
   "source": [
    "from sweetheart.sandbox import *\n",
    "config = set_config() # change config values here"
   ]
  },
  {
   "cell_type": "code",
   "execution_count": 1,
   "id": "d6f0cc92",
   "metadata": {},
   "outputs": [],
   "source": [
    "class A:\n",
    "    def test(self,string):\n",
    "        print(string)"
   ]
  },
  {
   "cell_type": "code",
   "execution_count": 5,
   "id": "abf900f7",
   "metadata": {},
   "outputs": [],
   "source": [
    "a.test = lambda s: print(\"*\",s)"
   ]
  },
  {
   "cell_type": "code",
   "execution_count": null,
   "id": "d81c796a",
   "metadata": {},
   "outputs": [],
   "source": []
  }
 ],
 "metadata": {
  "kernelspec": {
   "display_name": "my-python-NbY-a3YA-py3.8",
   "language": "python",
   "name": "my-python-nby-a3ya-py3.8"
  },
  "language_info": {
   "codemirror_mode": {
    "name": "ipython",
    "version": 3
   },
   "file_extension": ".py",
   "mimetype": "text/x-python",
   "name": "python",
   "nbconvert_exporter": "python",
   "pygments_lexer": "ipython3",
   "version": "3.8.10"
  }
 },
 "nbformat": 4,
 "nbformat_minor": 5
}
