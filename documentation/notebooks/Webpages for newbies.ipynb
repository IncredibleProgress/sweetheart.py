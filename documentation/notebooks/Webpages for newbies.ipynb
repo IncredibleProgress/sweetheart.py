{
 "cells": [
  {
   "cell_type": "markdown",
   "id": "0375ac94",
   "metadata": {},
   "source": [
    "# Webpages for newbies\n",
    "*build powerfull interfaces with TailwindCss Vue Brython*"
   ]
  },
  {
   "cell_type": "code",
   "execution_count": null,
   "id": "c1c341c1",
   "metadata": {},
   "outputs": [],
   "source": [
    "from sweetheart.sandbox import *"
   ]
  },
  {
   "cell_type": "code",
   "execution_count": null,
   "id": "c1e48914",
   "metadata": {},
   "outputs": [],
   "source": [
    "config = set_config()\n",
    "config.is_mongodb_local = True"
   ]
  },
  {
   "cell_type": "code",
   "execution_count": null,
   "id": "43dd05d9",
   "metadata": {
    "scrolled": true,
    "tags": []
   },
   "outputs": [],
   "source": [
    "quickstart(Route(\"/\", HTMLTemplate('login.htm')),\n",
    "    Route(\"/q\", HTMLTemplate('generalquery.htm')),\n",
    "    Route(\"/t\", HTMLTemplate('timetable.htm')),\n",
    "    Route(\"/test\", HTMLTemplate('test.htm')),\n",
    "    WebSocketRoute(\"/mongodb\", WebSocket)\n",
    ")"
   ]
  }
 ],
 "metadata": {
  "kernelspec": {
   "display_name": "my-python-NbY-a3YA-py3.8",
   "language": "python",
   "name": "my-python-nby-a3ya-py3.8"
  },
  "language_info": {
   "codemirror_mode": {
    "name": "ipython",
    "version": 3
   },
   "file_extension": ".py",
   "mimetype": "text/x-python",
   "name": "python",
   "nbconvert_exporter": "python",
   "pygments_lexer": "ipython3",
   "version": "3.8.10"
  }
 },
 "nbformat": 4,
 "nbformat_minor": 5
}
