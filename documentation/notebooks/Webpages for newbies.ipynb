{
 "cells": [
  {
   "cell_type": "markdown",
   "id": "0375ac94",
   "metadata": {},
   "source": [
    "# Webpages for newbies\n",
    "*build powerfull interfaces with TailwindCss Vue Brython*"
   ]
  },
  {
   "cell_type": "code",
   "execution_count": 1,
   "id": "c1c341c1",
   "metadata": {},
   "outputs": [],
   "source": [
    "from sweetheart.sandbox import *"
   ]
  },
  {
   "cell_type": "code",
   "execution_count": 2,
   "id": "c1e48914",
   "metadata": {},
   "outputs": [],
   "source": [
    "config = set_config()\n",
    "config.is_mongodb_local = True"
   ]
  },
  {
   "cell_type": "code",
   "execution_count": 3,
   "id": "43dd05d9",
   "metadata": {
    "scrolled": true,
    "tags": []
   },
   "outputs": [
    {
     "name": "stdout",
     "output_type": "stream",
     "text": [
      "[SWEETHEART] available mongo databases: ['admin', 'config', 'local', 'test']\n",
      "[SWEETHEART] selected database: test \n",
      "existing mongo collections: ['timetable']\n",
      "[SWEETHEART] mount webapp: /home/nico/.sweet/sweetheart/webpages\n"
     ]
    },
    {
     "name": "stderr",
     "output_type": "stream",
     "text": [
      "INFO:     Started server process [488]\n",
      "INFO:     Waiting for application startup.\n",
      "INFO:     Application startup complete.\n",
      "INFO:     Uvicorn running on http://127.0.0.1:8000 (Press CTRL+C to quit)\n"
     ]
    },
    {
     "name": "stdout",
     "output_type": "stream",
     "text": [
      "INFO:     127.0.0.1:62513 - \"GET /t HTTP/1.1\" 200 OK\n",
      "INFO:     127.0.0.1:62513 - \"GET /favicon.ico HTTP/1.1\" 200 OK\n"
     ]
    },
    {
     "name": "stderr",
     "output_type": "stream",
     "text": [
      "INFO:     ('127.0.0.1', 55119) - \"WebSocket /mongodb\" [accepted]\n",
      "INFO:     ('127.0.0.1', 62268) - \"WebSocket /mongodb\" [accepted]\n",
      "INFO:     ('127.0.0.1', 53908) - \"WebSocket /mongodb\" [accepted]\n",
      "INFO:     Shutting down\n",
      "INFO:     Waiting for application shutdown.\n",
      "INFO:     Application shutdown complete.\n",
      "INFO:     Finished server process [488]\n"
     ]
    }
   ],
   "source": [
    "quickstart(Route(\"/\", HTMLTemplate('login.htm')),\n",
    "    Route(\"/q\", HTMLTemplate('generalquery.htm')),\n",
    "    Route(\"/t\", HTMLTemplate('timetable.htm')),\n",
    "    Route(\"/test\", HTMLTemplate('test.htm')),\n",
    "    WebSocketRoute(\"/mongodb\", WebSocket)\n",
    ")"
   ]
  }
 ],
 "metadata": {
  "kernelspec": {
   "display_name": "my-python-NbY-a3YA-py3.8",
   "language": "python",
   "name": "my-python-nby-a3ya-py3.8"
  },
  "language_info": {
   "codemirror_mode": {
    "name": "ipython",
    "version": 3
   },
   "file_extension": ".py",
   "mimetype": "text/x-python",
   "name": "python",
   "nbconvert_exporter": "python",
   "pygments_lexer": "ipython3",
   "version": "3.8.10"
  }
 },
 "nbformat": 4,
 "nbformat_minor": 5
}
