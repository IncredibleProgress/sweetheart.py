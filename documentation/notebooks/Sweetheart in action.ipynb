{
 "cells": [
  {
   "cell_type": "markdown",
   "id": "673e28d0",
   "metadata": {},
   "source": [
    "# Sweetheart in Action\n",
    "## create value with low-code at full capabilities"
   ]
  },
  {
   "cell_type": "markdown",
   "id": "2dc77fe6",
   "metadata": {},
   "source": [
    "### getting started with sweetheart"
   ]
  },
  {
   "cell_type": "code",
   "execution_count": null,
   "id": "61d899fa",
   "metadata": {
    "scrolled": true
   },
   "outputs": [],
   "source": [
    "from sweetheart.sandbox import *\n",
    "\n",
    "config = set_config(sandbox=True)\n",
    "webapp = HttpServer(config,set_database=True)\n",
    "\n",
    "quickstart(webapp)"
   ]
  },
  {
   "cell_type": "markdown",
   "id": "19d819c8",
   "metadata": {},
   "source": [
    "### realistic example allowing better control"
   ]
  },
  {
   "cell_type": "code",
   "execution_count": null,
   "id": "db656577",
   "metadata": {},
   "outputs": [],
   "source": [
    "from sweetheart.sandbox import *\n",
    "\n",
    "config = set_config({\n",
    "    \"webbrowser\": \"brave.exe\",\n",
    "    \"templates_dir\": \"templates\",\n",
    "    \"selected_DB\": \"test\" },\n",
    "    sandbox=True )\n",
    "\n",
    "r = RethinkDB(config)\n",
    "r.set_websocket()\n",
    "r.set_client()\n",
    "\n",
    "webapp = HttpServer(config)\n",
    "quickstart( webapp.mount(\n",
    "    Route(\"/\", HTMLTemplate(\"login.htm\")) ))"
   ]
  },
  {
   "cell_type": "code",
   "execution_count": null,
   "id": "965e2a47",
   "metadata": {},
   "outputs": [],
   "source": []
  }
 ],
 "metadata": {
  "interpreter": {
   "hash": "4517be032ab7cb3050e22efea99be0835aabebfea801a99270db8d5ab457bf3e"
  },
  "kernelspec": {
   "display_name": "Python 3",
   "language": "python",
   "name": "python3"
  },
  "language_info": {
   "codemirror_mode": {
    "name": "ipython",
    "version": 3
   },
   "file_extension": ".py",
   "mimetype": "text/x-python",
   "name": "python",
   "nbconvert_exporter": "python",
   "pygments_lexer": "ipython3",
   "version": "3.8.10"
  }
 },
 "nbformat": 4,
 "nbformat_minor": 5
}
